{
  "nbformat": 4,
  "nbformat_minor": 0,
  "metadata": {
    "accelerator": "GPU",
    "colab": {
      "name": "bestMNISTmodel.ipynb",
      "provenance": [],
      "collapsed_sections": [],
      "toc_visible": true
    },
    "kernelspec": {
      "display_name": "Python 3",
      "name": "python3"
    },
    "language_info": {
      "name": "python"
    }
  },
  "cells": [
    {
      "cell_type": "code",
      "metadata": {
        "id": "0jAqJ51ABdqj"
      },
      "source": [
        "#import window\n",
        "from keras import models, layers\n",
        "from keras import Input\n",
        "from keras.models import Sequential, load_model, Model\n",
        "from keras import initializers, regularizers, metrics\n",
        "from keras.callbacks import ModelCheckpoint, EarlyStopping\n",
        "from keras.layers import BatchNormalization, Conv2D, Activation, Dense, GlobalAveragePooling2D, MaxPooling2D, ZeroPadding2D, Add, Flatten, Dropout\n",
        "from keras.models import load_model\n",
        "from keras.datasets import mnist\n",
        "from keras.utils import np_utils\n",
        "from time import time\n",
        "from keras.optimizers import SGD\n",
        "from keras.callbacks import ModelCheckpoint, EarlyStopping, ReduceLROnPlateau\n",
        "\n",
        "import cv2\n",
        "import os\n",
        "import matplotlib.pyplot as plt\n",
        "import numpy as np\n",
        "import math\n",
        "import tensorflow as tf"
      ],
      "execution_count": null,
      "outputs": []
    },
    {
      "cell_type": "code",
      "metadata": {
        "id": "zSgQ2iSnikEr"
      },
      "source": [
        "MY_EPOCH = 10000\n",
        "MY_BATCH = 256\n",
        "num_classes = 10"
      ],
      "execution_count": null,
      "outputs": []
    },
    {
      "cell_type": "code",
      "metadata": {
        "colab": {
          "base_uri": "https://localhost:8080/"
        },
        "id": "awFQJnu3gEn_",
        "outputId": "d48cad31-8a35-4375-f858-ddd110b27294"
      },
      "source": [
        "batch_size = 128\n",
        "num_classes = 10\n",
        "epochs = 12\n",
        "\n",
        "(X_train, Y_train), (X_test, Y_test) = mnist.load_data()\n",
        "\n",
        "input_shape = (28, 28, 1)\n",
        "print(X_train.shape)\n",
        "print(X_test.shape)\n",
        "\n",
        "\n",
        "#이진화 적용 (오츄 알고리즘)\n",
        "for i in range(60000):\n",
        "    _, X_train[i] = cv2.threshold(X_train[i], 0, 255, cv2.THRESH_OTSU)\n",
        "    X_train[i] = cv2.GaussianBlur(X_train[i], (5, 5), 0)\n",
        "\n",
        "for i in range(10000):\n",
        "    _, X_test[i] = cv2.threshold(X_test[i], 0, 255, cv2.THRESH_OTSU)\n",
        "    X_test[i] = cv2.GaussianBlur(X_test[i], (5, 5), 0)\n",
        "\n",
        "\n",
        "\n",
        "#rescale\n",
        "X_train = X_train.astype('float32') / 255.\n",
        "X_test = X_test.astype('float32') / 255.\n",
        "\n",
        "#input shape\n",
        "X_train = X_train.reshape(X_train.shape[0], 28, 28, 1)\n",
        "X_test = X_test.reshape(X_test.shape[0], 28, 28, 1)\n",
        "\n",
        "print('x_train shape:', X_train.shape)\n",
        "\n",
        "\n",
        "#one hot encoding\n",
        "Y_train = np_utils.to_categorical(Y_train, num_classes)\n",
        "Y_test = np_utils.to_categorical(Y_test, num_classes)"
      ],
      "execution_count": null,
      "outputs": [
        {
          "output_type": "stream",
          "text": [
            "Downloading data from https://storage.googleapis.com/tensorflow/tf-keras-datasets/mnist.npz\n",
            "11493376/11490434 [==============================] - 0s 0us/step\n",
            "(60000, 28, 28)\n",
            "(10000, 28, 28)\n",
            "x_train shape: (60000, 28, 28, 1)\n"
          ],
          "name": "stdout"
        }
      ]
    },
    {
      "cell_type": "code",
      "metadata": {
        "colab": {
          "base_uri": "https://localhost:8080/"
        },
        "id": "yGzJhv4FjHT7",
        "outputId": "e7809750-d055-45cc-e2f0-795e1feca845"
      },
      "source": [
        "model = Sequential()\n",
        "model.add(Conv2D(32, kernel_size=(3, 3), strides=(1, 1), padding='same',\n",
        "                 activation='relu',\n",
        "                 input_shape=input_shape))\n",
        "model.add(Conv2D(64, (3, 3), activation='relu', padding='same'))\n",
        "\n",
        "model.add(MaxPooling2D(pool_size=(2,2), strides=(1, 1)))\n",
        "\n",
        "model.add(Conv2D(128, (3, 3), activation='relu', padding='same'))\n",
        "model.add(Conv2D(128, (3, 3), activation='relu', padding='same'))\n",
        "model.add(MaxPooling2D(pool_size=(2, 2)))\n",
        "model.add(Flatten())\n",
        "\n",
        "\n",
        "model.add(Dense(num_classes, activation='softmax'))\n",
        "model.summary()"
      ],
      "execution_count": null,
      "outputs": [
        {
          "output_type": "stream",
          "text": [
            "Model: \"sequential\"\n",
            "_________________________________________________________________\n",
            "Layer (type)                 Output Shape              Param #   \n",
            "=================================================================\n",
            "conv2d (Conv2D)              (None, 28, 28, 32)        320       \n",
            "_________________________________________________________________\n",
            "conv2d_1 (Conv2D)            (None, 28, 28, 64)        18496     \n",
            "_________________________________________________________________\n",
            "max_pooling2d (MaxPooling2D) (None, 27, 27, 64)        0         \n",
            "_________________________________________________________________\n",
            "conv2d_2 (Conv2D)            (None, 27, 27, 128)       73856     \n",
            "_________________________________________________________________\n",
            "conv2d_3 (Conv2D)            (None, 27, 27, 128)       147584    \n",
            "_________________________________________________________________\n",
            "max_pooling2d_1 (MaxPooling2 (None, 13, 13, 128)       0         \n",
            "_________________________________________________________________\n",
            "flatten (Flatten)            (None, 21632)             0         \n",
            "_________________________________________________________________\n",
            "dense (Dense)                (None, 10)                216330    \n",
            "=================================================================\n",
            "Total params: 456,586\n",
            "Trainable params: 456,586\n",
            "Non-trainable params: 0\n",
            "_________________________________________________________________\n"
          ],
          "name": "stdout"
        }
      ]
    },
    {
      "cell_type": "code",
      "metadata": {
        "id": "lXyc6M-Hjvq0"
      },
      "source": [
        "model.compile(optimizer = 'adam', loss = 'categorical_crossentropy', metrics= ['acc'])\n",
        "\n",
        "model_DIR='./model/'\n",
        "if not os.path.exists(model_DIR):\n",
        "    os.mkdir(model_DIR)\n",
        "\n",
        "path='./model/{epoch:02d}-{val_loss:.4f}.h5'\n",
        "checkpointer = ModelCheckpoint(filepath=path, monitor='val_loss', verbose=1, save_best_only=True)\n",
        "early_stopping_callback = EarlyStopping(monitor='val_loss', patience=30)\n"
      ],
      "execution_count": null,
      "outputs": []
    },
    {
      "cell_type": "markdown",
      "metadata": {
        "id": "UeHuzv50nybx"
      },
      "source": [
        "# 새 섹션"
      ]
    },
    {
      "cell_type": "code",
      "metadata": {
        "colab": {
          "base_uri": "https://localhost:8080/"
        },
        "id": "pfjS8SmymOM4",
        "outputId": "8b54964b-fc92-4f37-9794-d331cb338d0d"
      },
      "source": [
        "print('train start')\n",
        "begin = time()\n",
        "model.fit(X_train, Y_train, epochs = MY_EPOCH, batch_size= MY_BATCH, verbose = 1, validation_data=(X_test,Y_test), callbacks=[early_stopping_callback, checkpointer])\n",
        "end = time()\n",
        "print(\"train time : \", end-begin)"
      ],
      "execution_count": null,
      "outputs": [
        {
          "output_type": "stream",
          "text": [
            "train start\n",
            "Epoch 1/10000\n",
            "235/235 [==============================] - 58s 114ms/step - loss: 0.4943 - acc: 0.8356 - val_loss: 0.0584 - val_acc: 0.9810\n",
            "\n",
            "Epoch 00001: val_loss improved from inf to 0.05843, saving model to ./model/01-0.0584.h5\n",
            "Epoch 2/10000\n",
            "235/235 [==============================] - 26s 109ms/step - loss: 0.0593 - acc: 0.9820 - val_loss: 0.0534 - val_acc: 0.9825\n",
            "\n",
            "Epoch 00002: val_loss improved from 0.05843 to 0.05336, saving model to ./model/02-0.0534.h5\n",
            "Epoch 3/10000\n",
            "235/235 [==============================] - 26s 110ms/step - loss: 0.0422 - acc: 0.9866 - val_loss: 0.0391 - val_acc: 0.9862\n",
            "\n",
            "Epoch 00003: val_loss improved from 0.05336 to 0.03910, saving model to ./model/03-0.0391.h5\n",
            "Epoch 4/10000\n",
            "235/235 [==============================] - 26s 110ms/step - loss: 0.0312 - acc: 0.9898 - val_loss: 0.0325 - val_acc: 0.9887\n",
            "\n",
            "Epoch 00004: val_loss improved from 0.03910 to 0.03252, saving model to ./model/04-0.0325.h5\n",
            "Epoch 5/10000\n",
            "235/235 [==============================] - 26s 110ms/step - loss: 0.0245 - acc: 0.9921 - val_loss: 0.0343 - val_acc: 0.9890\n",
            "\n",
            "Epoch 00005: val_loss did not improve from 0.03252\n",
            "Epoch 6/10000\n",
            "235/235 [==============================] - 26s 110ms/step - loss: 0.0210 - acc: 0.9934 - val_loss: 0.0309 - val_acc: 0.9893\n",
            "\n",
            "Epoch 00006: val_loss improved from 0.03252 to 0.03093, saving model to ./model/06-0.0309.h5\n",
            "Epoch 7/10000\n",
            "235/235 [==============================] - 26s 109ms/step - loss: 0.0175 - acc: 0.9947 - val_loss: 0.0336 - val_acc: 0.9888\n",
            "\n",
            "Epoch 00007: val_loss did not improve from 0.03093\n",
            "Epoch 8/10000\n",
            "235/235 [==============================] - 26s 110ms/step - loss: 0.0149 - acc: 0.9950 - val_loss: 0.0405 - val_acc: 0.9871\n",
            "\n",
            "Epoch 00008: val_loss did not improve from 0.03093\n",
            "Epoch 9/10000\n",
            "235/235 [==============================] - 26s 110ms/step - loss: 0.0133 - acc: 0.9955 - val_loss: 0.0324 - val_acc: 0.9912\n",
            "\n",
            "Epoch 00009: val_loss did not improve from 0.03093\n",
            "Epoch 10/10000\n",
            "235/235 [==============================] - 26s 110ms/step - loss: 0.0118 - acc: 0.9967 - val_loss: 0.0463 - val_acc: 0.9859\n",
            "\n",
            "Epoch 00010: val_loss did not improve from 0.03093\n",
            "Epoch 11/10000\n",
            "235/235 [==============================] - 26s 109ms/step - loss: 0.0121 - acc: 0.9960 - val_loss: 0.0444 - val_acc: 0.9884\n",
            "\n",
            "Epoch 00011: val_loss did not improve from 0.03093\n",
            "Epoch 12/10000\n",
            "235/235 [==============================] - 26s 109ms/step - loss: 0.0100 - acc: 0.9964 - val_loss: 0.0393 - val_acc: 0.9889\n",
            "\n",
            "Epoch 00012: val_loss did not improve from 0.03093\n",
            "Epoch 13/10000\n",
            "235/235 [==============================] - 26s 109ms/step - loss: 0.0068 - acc: 0.9977 - val_loss: 0.0377 - val_acc: 0.9888\n",
            "\n",
            "Epoch 00013: val_loss did not improve from 0.03093\n",
            "Epoch 14/10000\n",
            "235/235 [==============================] - 26s 110ms/step - loss: 0.0071 - acc: 0.9976 - val_loss: 0.0416 - val_acc: 0.9890\n",
            "\n",
            "Epoch 00014: val_loss did not improve from 0.03093\n",
            "Epoch 15/10000\n",
            "235/235 [==============================] - 26s 109ms/step - loss: 0.0073 - acc: 0.9972 - val_loss: 0.0479 - val_acc: 0.9891\n",
            "\n",
            "Epoch 00015: val_loss did not improve from 0.03093\n",
            "Epoch 16/10000\n",
            "235/235 [==============================] - 26s 110ms/step - loss: 0.0057 - acc: 0.9983 - val_loss: 0.0451 - val_acc: 0.9890\n",
            "\n",
            "Epoch 00016: val_loss did not improve from 0.03093\n",
            "Epoch 17/10000\n",
            "235/235 [==============================] - 26s 109ms/step - loss: 0.0034 - acc: 0.9990 - val_loss: 0.0543 - val_acc: 0.9886\n",
            "\n",
            "Epoch 00017: val_loss did not improve from 0.03093\n",
            "Epoch 18/10000\n",
            "235/235 [==============================] - 26s 109ms/step - loss: 0.0064 - acc: 0.9979 - val_loss: 0.0479 - val_acc: 0.9886\n",
            "\n",
            "Epoch 00018: val_loss did not improve from 0.03093\n",
            "Epoch 19/10000\n",
            "235/235 [==============================] - 26s 109ms/step - loss: 0.0056 - acc: 0.9984 - val_loss: 0.0403 - val_acc: 0.9907\n",
            "\n",
            "Epoch 00019: val_loss did not improve from 0.03093\n",
            "Epoch 20/10000\n",
            "235/235 [==============================] - 26s 109ms/step - loss: 0.0079 - acc: 0.9973 - val_loss: 0.0480 - val_acc: 0.9900\n",
            "\n",
            "Epoch 00020: val_loss did not improve from 0.03093\n",
            "Epoch 21/10000\n",
            "235/235 [==============================] - 26s 109ms/step - loss: 0.0039 - acc: 0.9986 - val_loss: 0.0441 - val_acc: 0.9888\n",
            "\n",
            "Epoch 00021: val_loss did not improve from 0.03093\n",
            "Epoch 22/10000\n",
            "235/235 [==============================] - 26s 109ms/step - loss: 0.0037 - acc: 0.9988 - val_loss: 0.0586 - val_acc: 0.9893\n",
            "\n",
            "Epoch 00022: val_loss did not improve from 0.03093\n",
            "Epoch 23/10000\n",
            "235/235 [==============================] - 26s 109ms/step - loss: 0.0032 - acc: 0.9991 - val_loss: 0.0626 - val_acc: 0.9875\n",
            "\n",
            "Epoch 00023: val_loss did not improve from 0.03093\n",
            "Epoch 24/10000\n",
            "235/235 [==============================] - 26s 109ms/step - loss: 0.0059 - acc: 0.9978 - val_loss: 0.0524 - val_acc: 0.9900\n",
            "\n",
            "Epoch 00024: val_loss did not improve from 0.03093\n",
            "Epoch 25/10000\n",
            "235/235 [==============================] - 26s 109ms/step - loss: 0.0025 - acc: 0.9990 - val_loss: 0.0420 - val_acc: 0.9916\n",
            "\n",
            "Epoch 00025: val_loss did not improve from 0.03093\n",
            "Epoch 26/10000\n",
            "235/235 [==============================] - 26s 109ms/step - loss: 0.0019 - acc: 0.9994 - val_loss: 0.0725 - val_acc: 0.9888\n",
            "\n",
            "Epoch 00026: val_loss did not improve from 0.03093\n",
            "Epoch 27/10000\n",
            "235/235 [==============================] - 26s 109ms/step - loss: 0.0072 - acc: 0.9978 - val_loss: 0.0518 - val_acc: 0.9912\n",
            "\n",
            "Epoch 00027: val_loss did not improve from 0.03093\n",
            "Epoch 28/10000\n",
            "235/235 [==============================] - 26s 109ms/step - loss: 0.0025 - acc: 0.9991 - val_loss: 0.0591 - val_acc: 0.9897\n",
            "\n",
            "Epoch 00028: val_loss did not improve from 0.03093\n",
            "Epoch 29/10000\n",
            "235/235 [==============================] - 26s 109ms/step - loss: 0.0031 - acc: 0.9990 - val_loss: 0.0513 - val_acc: 0.9896\n",
            "\n",
            "Epoch 00029: val_loss did not improve from 0.03093\n",
            "Epoch 30/10000\n",
            "235/235 [==============================] - 26s 109ms/step - loss: 0.0027 - acc: 0.9992 - val_loss: 0.0480 - val_acc: 0.9893\n",
            "\n",
            "Epoch 00030: val_loss did not improve from 0.03093\n",
            "Epoch 31/10000\n",
            "235/235 [==============================] - 26s 109ms/step - loss: 0.0023 - acc: 0.9991 - val_loss: 0.0476 - val_acc: 0.9905\n",
            "\n",
            "Epoch 00031: val_loss did not improve from 0.03093\n",
            "Epoch 32/10000\n",
            "235/235 [==============================] - 26s 109ms/step - loss: 0.0012 - acc: 0.9997 - val_loss: 0.0453 - val_acc: 0.9905\n",
            "\n",
            "Epoch 00032: val_loss did not improve from 0.03093\n",
            "Epoch 33/10000\n",
            "235/235 [==============================] - 26s 109ms/step - loss: 0.0033 - acc: 0.9990 - val_loss: 0.0568 - val_acc: 0.9904\n",
            "\n",
            "Epoch 00033: val_loss did not improve from 0.03093\n",
            "Epoch 34/10000\n",
            "235/235 [==============================] - 26s 109ms/step - loss: 0.0042 - acc: 0.9986 - val_loss: 0.0607 - val_acc: 0.9901\n",
            "\n",
            "Epoch 00034: val_loss did not improve from 0.03093\n",
            "Epoch 35/10000\n",
            "235/235 [==============================] - 26s 109ms/step - loss: 0.0038 - acc: 0.9991 - val_loss: 0.0539 - val_acc: 0.9892\n",
            "\n",
            "Epoch 00035: val_loss did not improve from 0.03093\n",
            "Epoch 36/10000\n",
            "235/235 [==============================] - 26s 109ms/step - loss: 0.0015 - acc: 0.9995 - val_loss: 0.0556 - val_acc: 0.9903\n",
            "\n",
            "Epoch 00036: val_loss did not improve from 0.03093\n",
            "train time :  957.5625314712524\n"
          ],
          "name": "stdout"
        }
      ]
    },
    {
      "cell_type": "code",
      "metadata": {
        "id": "AB3iBhFEmHCU"
      },
      "source": [
        ""
      ],
      "execution_count": null,
      "outputs": []
    },
    {
      "cell_type": "code",
      "metadata": {
        "id": "rmenwKINjy10"
      },
      "source": [
        ""
      ],
      "execution_count": null,
      "outputs": []
    }
  ]
}